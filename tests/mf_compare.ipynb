{
 "cells": [
  {
   "cell_type": "code",
   "execution_count": null,
   "id": "e531a08f-6459-4ef9-87ba-f924b80c3e5d",
   "metadata": {},
   "outputs": [],
   "source": [
    "## THIS CELL SHOULD BE IN ALL VSCODE NOTEBOOKS ##\n",
    "\n",
    "MARKET = \"NSE\"\n",
    "\n",
    "# Set the root\n",
    "from from_root import from_root\n",
    "\n",
    "ROOT = from_root()\n",
    "\n",
    "import pandas as pd\n",
    "from loguru import logger\n",
    "\n",
    "pd.options.display.max_columns = None\n",
    "\n",
    "import sys\n",
    "from pathlib import Path\n",
    "\n",
    "# Add `src` and ROOT to _src.pth in .venv to allow imports in VS Code\n",
    "from sysconfig import get_path\n",
    "\n",
    "if \"src\" not in Path.cwd().parts:\n",
    "    src_path = str(Path(get_path(\"purelib\")) / \"_src.pth\")\n",
    "    with open(src_path, \"w\") as f:\n",
    "        f.write(str(ROOT / \"src\\n\"))\n",
    "        f.write(str(ROOT))\n",
    "        if str(ROOT) not in sys.path:\n",
    "            sys.path.insert(1, str(ROOT))\n",
    "\n",
    "logger.add(sink=ROOT / \"log\" / \"ztest.log\", mode=\"w\")"
   ]
  },
  {
   "cell_type": "markdown",
   "id": "d253957a-b371-4e96-83dd-767dc2795917",
   "metadata": {},
   "source": [
    "# Imports"
   ]
  },
  {
   "cell_type": "code",
   "execution_count": null,
   "id": "2ec3cd66-f5f7-46f2-b8a0-d68ca47fe2f0",
   "metadata": {},
   "outputs": [],
   "source": [
    "import json\n",
    "\n",
    "import numpy as np\n",
    "import pandas as pd\n",
    "import plotly.express as px\n",
    "import yaml\n",
    "from mftool import Mftool"
   ]
  },
  {
   "cell_type": "code",
   "execution_count": null,
   "id": "33786114-84ba-4a62-a130-c04e3addf278",
   "metadata": {},
   "outputs": [],
   "source": [
    "mft = Mftool()"
   ]
  },
  {
   "cell_type": "markdown",
   "id": "4b1aa47d-c002-412a-886b-3cf8f8202178",
   "metadata": {},
   "source": [
    "# Fund IDs"
   ]
  },
  {
   "cell_type": "code",
   "execution_count": null,
   "id": "563ef265-0536-4763-b6f0-0ab629e3c82e",
   "metadata": {},
   "outputs": [],
   "source": [
    "# Get fund IDs of my funds\n",
    "\n",
    "with open(ROOT / \"data\" / \"mfs.yml\", \"rb\") as f:\n",
    "    mf_master = yaml.safe_load(f)\n",
    "\n",
    "descs = {k: v.get(\"desc\") for k, v in mf_master.items()}\n",
    "\n",
    "ids = {k: next(iter(mft.get_available_schemes(v))) for k, v in descs.items()}\n",
    "\n",
    "df_mf = pd.DataFrame([descs, ids]).T\n",
    "df_mf.index.rename(\"name\")\n",
    "df_mf.columns = [\"desc\", \"id\"]"
   ]
  },
  {
   "cell_type": "markdown",
   "id": "0bd57956-3025-4560-be5a-c2843dc41cdd",
   "metadata": {},
   "source": [
    "# Historical NAVs"
   ]
  },
  {
   "cell_type": "code",
   "execution_count": null,
   "id": "e9c7de69-1a96-4cc7-9632-2a3ecb806a6c",
   "metadata": {},
   "outputs": [],
   "source": [
    "symbol = \"quant_midcap\"\n",
    "\n",
    "ids = [df_mf.loc[s].id for s in descs]\n",
    "\n",
    "\n",
    "dfs = [\n",
    "    mft.get_scheme_historical_nav(d, as_Dataframe=True)\n",
    "    .assign(symbol=symbol)\n",
    "    .reset_index()\n",
    "    for d in ids\n",
    "]\n",
    "\n",
    "df = pd.concat(dfs, axis=0, ignore_index=True)\n",
    "\n",
    "df.date = pd.to_datetime(df.date, dayfirst=True)\n",
    "\n",
    "df.nav = df.nav.astype(\"float\")"
   ]
  },
  {
   "cell_type": "markdown",
   "id": "eb5ec3bb-0550-4c3b-affb-6010cd77e1a5",
   "metadata": {},
   "source": [
    "# Plot the NAVs"
   ]
  },
  {
   "cell_type": "code",
   "execution_count": null,
   "id": "70744827-9138-4f74-8da9-171ea943ae4f",
   "metadata": {},
   "outputs": [],
   "source": []
  }
 ],
 "metadata": {
  "kernelspec": {
   "display_name": "Python 3 (ipykernel)",
   "language": "python",
   "name": "python3"
  },
  "language_info": {
   "codemirror_mode": {
    "name": "ipython",
    "version": 3
   },
   "file_extension": ".py",
   "mimetype": "text/x-python",
   "name": "python",
   "nbconvert_exporter": "python",
   "pygments_lexer": "ipython3",
   "version": "3.11.5"
  }
 },
 "nbformat": 4,
 "nbformat_minor": 5
}
